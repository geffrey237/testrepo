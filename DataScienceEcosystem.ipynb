{
 "cells": [
  {
   "cell_type": "markdown",
   "id": "9ada511d-3807-4b2d-a863-d581467427ec",
   "metadata": {},
   "source": [
    "# Data Science Tools and Ecosystem "
   ]
  },
  {
   "cell_type": "markdown",
   "id": "4e47834e-e6dc-43e9-b281-70606888f0d5",
   "metadata": {},
   "source": [
    "In this notebook, Data Science Tools and Ecosystem are summarized "
   ]
  },
  {
   "cell_type": "markdown",
   "id": "0b3d8f70-3bcd-469e-9ad7-cf29606b281b",
   "metadata": {},
   "source": [
    "Some of popular languages that datascientist use are : \n",
    "1. Python\n",
    "2. Java\n",
    "3. R "
   ]
  },
  {
   "cell_type": "markdown",
   "id": "572a9c02-e2c2-461b-b3a6-d19f22755556",
   "metadata": {},
   "source": [
    "|DataScience Tools|\n",
    "|-----------------|\n",
    "|JupiterLab|\n",
    "| GitHub |"
   ]
  },
  {
   "cell_type": "markdown",
   "id": "5e1fa249-10b3-4d4d-bac4-b708c688a409",
   "metadata": {},
   "source": [
    "### Below are a few examples of evaluating arithmetic expression in python"
   ]
  },
  {
   "cell_type": "code",
   "execution_count": 8,
   "id": "19138d66-9299-4df3-b46e-bae39e6f0b42",
   "metadata": {},
   "outputs": [
    {
     "data": {
      "text/plain": [
       "17"
      ]
     },
     "execution_count": 8,
     "metadata": {},
     "output_type": "execute_result"
    }
   ],
   "source": [
    "(3*4)+5\n",
    "#This is simple arithmetic expression then add integers."
   ]
  },
  {
   "cell_type": "code",
   "execution_count": null,
   "id": "d6d792be-669b-4258-9f41-07029c7f4eed",
   "metadata": {},
   "outputs": [],
   "source": []
  }
 ],
 "metadata": {
  "kernelspec": {
   "display_name": "Python 3 (ipykernel)",
   "language": "python",
   "name": "python3"
  },
  "language_info": {
   "codemirror_mode": {
    "name": "ipython",
    "version": 3
   },
   "file_extension": ".py",
   "mimetype": "text/x-python",
   "name": "python",
   "nbconvert_exporter": "python",
   "pygments_lexer": "ipython3",
   "version": "3.11.7"
  }
 },
 "nbformat": 4,
 "nbformat_minor": 5
}
